{
 "cells": [
  {
   "cell_type": "markdown",
   "metadata": {},
   "source": [
    "# Analysing NN dynamics using HSIC Criterion - Intermediate layers"
   ]
  },
  {
   "cell_type": "code",
   "execution_count": 1,
   "metadata": {},
   "outputs": [],
   "source": [
    "# importing PyGlow modules\n",
    "import glow\n",
    "from glow.layers import Dense, Dropout, Conv2d, Flatten, HSICoutput\n",
    "from glow.datasets import mnist, cifar10\n",
    "from glow.models import IBSequential, Sequential, HSICSigma\n",
    "from glow.information_bottelneck.estimator import HSIC"
   ]
  },
  {
   "cell_type": "code",
   "execution_count": 2,
   "metadata": {},
   "outputs": [],
   "source": [
    "# hyperparameter\n",
    "batch_size = 64\n",
    "num_workers = 3\n",
    "validation_split = 0.2\n",
    "num_epochs = 2\n",
    "\n",
    "# load the dataset\n",
    "train_loader, val_loader, test_loader = mnist.load_data(\n",
    "    batch_size=batch_size, num_workers=num_workers, validation_split=validation_split\n",
    ")"
   ]
  },
  {
   "cell_type": "code",
   "execution_count": 3,
   "metadata": {},
   "outputs": [
    {
     "name": "stdout",
     "output_type": "stream",
     "text": [
      "Running on CUDA enabled device !\n",
      "IBSequential(\n",
      "  (layer_list): ModuleList(\n",
      "    (0): Sequential(\n",
      "      (0): Conv2d(\n",
      "        (conv_layer): Conv2d(1, 16, kernel_size=(3, 3), stride=(1, 1), padding=(1, 1))\n",
      "      )\n",
      "    )\n",
      "    (1): Sequential(\n",
      "      (0): Flatten()\n",
      "    )\n",
      "    (2): Sequential(\n",
      "      (0): Dropout(\n",
      "        (dropout_layer): Dropout(p=0.4)\n",
      "      )\n",
      "    )\n",
      "    (3): Sequential(\n",
      "      (0): Dense(\n",
      "        (weights): Linear(in_features=12544, out_features=500, bias=True)\n",
      "      )\n",
      "    )\n",
      "    (4): Sequential(\n",
      "      (0): Dropout(\n",
      "        (dropout_layer): Dropout(p=0.4)\n",
      "      )\n",
      "    )\n",
      "    (5): Sequential(\n",
      "      (0): Dense(\n",
      "        (weights): Linear(in_features=500, out_features=200, bias=True)\n",
      "      )\n",
      "    )\n",
      "    (6): Sequential(\n",
      "      (0): Dropout(\n",
      "        (dropout_layer): Dropout(p=0.2)\n",
      "      )\n",
      "    )\n",
      "    (7): Sequential(\n",
      "      (0): Dense(\n",
      "        (weights): Linear(in_features=200, out_features=10, bias=True)\n",
      "      )\n",
      "    )\n",
      "  )\n",
      ")\n"
     ]
    }
   ],
   "source": [
    "# define the model\n",
    "model = IBSequential(input_shape=(1, 28, 28), gpu=True, track_dynamics=True, save_dynamics=True)\n",
    "model.add(Conv2d(filters=16, kernel_size=3, stride=1, padding=1))\n",
    "model.add(Flatten())\n",
    "model.add(Dropout(0.4))\n",
    "model.add(Dense(500, activation='relu'))\n",
    "model.add(Dropout(0.4))\n",
    "model.add(Dense(200, activation='relu'))\n",
    "model.add(Dropout(0.2))\n",
    "model.add(Dense(10, activation='softmax'))\n",
    "print(model)"
   ]
  },
  {
   "cell_type": "markdown",
   "metadata": {},
   "source": [
    "## Attaching dynamics evaluator to the model\n",
    "We can attach evaluators which calculates information plane coordinates for all layers for all batches for all epochs. Any custom evaluator can be passed as object in the .attach_evaluator.\n"
   ]
  },
  {
   "cell_type": "code",
   "execution_count": 4,
   "metadata": {},
   "outputs": [],
   "source": [
    "# compile the model\n",
    "model.compile(optimizer='SGD', loss='cross_entropy', metrics=['accuracy'])\n",
    "model.attach_evaluator(HSIC(sigma=5, gpu=True))"
   ]
  },
  {
   "cell_type": "code",
   "execution_count": null,
   "metadata": {},
   "outputs": [],
   "source": [
    "# train the model along with calculating dynamics\n",
    "model.fit_generator(train_loader, val_loader, num_epochs)"
   ]
  }
 ],
 "metadata": {
  "kernelspec": {
   "display_name": "Python 3",
   "language": "python",
   "name": "python3"
  },
  "language_info": {
   "codemirror_mode": {
    "name": "ipython",
    "version": 3
   },
   "file_extension": ".py",
   "mimetype": "text/x-python",
   "name": "python",
   "nbconvert_exporter": "python",
   "pygments_lexer": "ipython3",
   "version": "3.6.5"
  }
 },
 "nbformat": 4,
 "nbformat_minor": 2
}
